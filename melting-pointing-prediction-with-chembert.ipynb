{
 "cells": [
  {
   "cell_type": "code",
   "execution_count": 1,
   "id": "9dbb8c33",
   "metadata": {
    "execution": {
     "iopub.execute_input": "2025-10-12T17:50:44.363853Z",
     "iopub.status.busy": "2025-10-12T17:50:44.363098Z",
     "iopub.status.idle": "2025-10-12T17:51:07.553117Z",
     "shell.execute_reply": "2025-10-12T17:51:07.551783Z"
    },
    "papermill": {
     "duration": 23.197436,
     "end_time": "2025-10-12T17:51:07.555439",
     "exception": false,
     "start_time": "2025-10-12T17:50:44.358003",
     "status": "completed"
    },
    "tags": []
   },
   "outputs": [],
   "source": [
    "import numpy as np\n",
    "import pandas as pd\n",
    "import torch\n",
    "\n",
    "from transformers import AutoModelForMaskedLM, AutoTokenizer, AutoModel"
   ]
  },
  {
   "cell_type": "code",
   "execution_count": 2,
   "id": "109cfae7",
   "metadata": {
    "execution": {
     "iopub.execute_input": "2025-10-12T17:51:07.562112Z",
     "iopub.status.busy": "2025-10-12T17:51:07.561537Z",
     "iopub.status.idle": "2025-10-12T17:51:07.721887Z",
     "shell.execute_reply": "2025-10-12T17:51:07.720715Z"
    },
    "papermill": {
     "duration": 0.165647,
     "end_time": "2025-10-12T17:51:07.723900",
     "exception": false,
     "start_time": "2025-10-12T17:51:07.558253",
     "status": "completed"
    },
    "tags": []
   },
   "outputs": [],
   "source": [
    "df_train = pd.read_csv('/kaggle/input/melting-point/train.csv')\n",
    "chemberta_model = '/kaggle/input/c/transformers/default/1/ChemBERTa-77M-MLM'"
   ]
  },
  {
   "cell_type": "code",
   "execution_count": 3,
   "id": "4ed8e8be",
   "metadata": {
    "execution": {
     "iopub.execute_input": "2025-10-12T17:51:07.730466Z",
     "iopub.status.busy": "2025-10-12T17:51:07.730115Z",
     "iopub.status.idle": "2025-10-12T17:51:36.421337Z",
     "shell.execute_reply": "2025-10-12T17:51:36.420339Z"
    },
    "papermill": {
     "duration": 28.696558,
     "end_time": "2025-10-12T17:51:36.423045",
     "exception": false,
     "start_time": "2025-10-12T17:51:07.726487",
     "status": "completed"
    },
    "tags": []
   },
   "outputs": [
    {
     "name": "stdout",
     "output_type": "stream",
     "text": [
      "Loading ChemBERTa model...\n"
     ]
    },
    {
     "name": "stderr",
     "output_type": "stream",
     "text": [
      "/usr/local/lib/python3.11/dist-packages/pydantic/_internal/_generate_schema.py:2225: UnsupportedFieldAttributeWarning: The 'repr' attribute with value False was provided to the `Field()` function, which has no effect in the context it was used. 'repr' is field-specific metadata, and can only be attached to a model field using `Annotated` metadata or by assignment. This may have happened because an `Annotated` type alias using the `type` statement was used, or if the `Field()` function was attached to a single member of a union type.\n",
      "  warnings.warn(\n",
      "/usr/local/lib/python3.11/dist-packages/pydantic/_internal/_generate_schema.py:2225: UnsupportedFieldAttributeWarning: The 'frozen' attribute with value True was provided to the `Field()` function, which has no effect in the context it was used. 'frozen' is field-specific metadata, and can only be attached to a model field using `Annotated` metadata or by assignment. This may have happened because an `Annotated` type alias using the `type` statement was used, or if the `Field()` function was attached to a single member of a union type.\n",
      "  warnings.warn(\n",
      "2025-10-12 17:51:19.483670: E external/local_xla/xla/stream_executor/cuda/cuda_fft.cc:477] Unable to register cuFFT factory: Attempting to register factory for plugin cuFFT when one has already been registered\n",
      "WARNING: All log messages before absl::InitializeLog() is called are written to STDERR\n",
      "E0000 00:00:1760291479.779077      13 cuda_dnn.cc:8310] Unable to register cuDNN factory: Attempting to register factory for plugin cuDNN when one has already been registered\n",
      "E0000 00:00:1760291479.865058      13 cuda_blas.cc:1418] Unable to register cuBLAS factory: Attempting to register factory for plugin cuBLAS when one has already been registered\n"
     ]
    },
    {
     "name": "stdout",
     "output_type": "stream",
     "text": [
      "ChemBERTa loaded successfully!\n"
     ]
    }
   ],
   "source": [
    "# Model retrieved from https://www.kaggle.com/code/michaelrowen/opp2025-chemberta-pre-trained-base\n",
    "class BERTEmbedder:\n",
    "    def __init__(self, model_name):\n",
    "        self.tokenizer = AutoTokenizer.from_pretrained(model_name)\n",
    "        self.model = AutoModel.from_pretrained(model_name)\n",
    "        self.model.eval()\n",
    "\n",
    "print('Loading ChemBERTa model...')\n",
    "try:\n",
    "    chemberta = BERTEmbedder(model_name=chemberta_model)\n",
    "    print('ChemBERTa loaded successfully!')\n",
    "except Exception as e:\n",
    "    print(f'Error loading ChemBERTa: {e}')"
   ]
  },
  {
   "cell_type": "code",
   "execution_count": 4,
   "id": "a98e122f",
   "metadata": {
    "execution": {
     "iopub.execute_input": "2025-10-12T17:51:36.430509Z",
     "iopub.status.busy": "2025-10-12T17:51:36.429687Z",
     "iopub.status.idle": "2025-10-12T17:51:36.437573Z",
     "shell.execute_reply": "2025-10-12T17:51:36.436324Z"
    },
    "papermill": {
     "duration": 0.013646,
     "end_time": "2025-10-12T17:51:36.439568",
     "exception": false,
     "start_time": "2025-10-12T17:51:36.425922",
     "status": "completed"
    },
    "tags": []
   },
   "outputs": [],
   "source": [
    "def extract_chembert_embeddings(smiles_list, embedder, n_data):\n",
    "    n_latent = 384\n",
    "    embeddings = np.zeros((n_data, n_latent))\n",
    "    \n",
    "    for i, smiles in enumerate(smiles_list):\n",
    "        with torch.no_grad():\n",
    "            # Getting the model output\n",
    "            encoded_input = embedder.tokenizer(smiles, return_tensors='pt', padding=True, truncation=True)\n",
    "            model_output = embedder.model(**encoded_input)\n",
    "        \n",
    "            # Getting the CLS token from model output\n",
    "            embedding = model_output[0][:,0,:]\n",
    "            embeddings[i, :] = embedding.numpy()\n",
    "    \n",
    "    return embeddings"
   ]
  },
  {
   "cell_type": "code",
   "execution_count": 5,
   "id": "dc80a12e",
   "metadata": {
    "execution": {
     "iopub.execute_input": "2025-10-12T17:51:36.446237Z",
     "iopub.status.busy": "2025-10-12T17:51:36.445758Z",
     "iopub.status.idle": "2025-10-12T17:51:36.454724Z",
     "shell.execute_reply": "2025-10-12T17:51:36.453416Z"
    },
    "papermill": {
     "duration": 0.014251,
     "end_time": "2025-10-12T17:51:36.456595",
     "exception": false,
     "start_time": "2025-10-12T17:51:36.442344",
     "status": "completed"
    },
    "tags": []
   },
   "outputs": [],
   "source": [
    "# Code retrieved from https://www.kaggle.com/code/michaelrowen/opp2025-chemberta-pre-trained-base\n",
    "def extract_simple_molecular_features(smiles_list):\n",
    "    features = []\n",
    "    for smiles in smiles_list:\n",
    "        feature_vector = [\n",
    "            len(smiles),  # SMILES length\n",
    "            smiles.count('C'),  # Carbon count\n",
    "            smiles.count('N'),  # Nitrogen count\n",
    "            smiles.count('O'),  # Oxygen count\n",
    "            smiles.count('S'),  # Sulfur count\n",
    "            smiles.count('P'),  # Phosphorus count\n",
    "            smiles.count('F'),  # Fluorine count\n",
    "            smiles.count('Cl'),  # Chlorine count\n",
    "            smiles.count('Br'),  # Bromine count\n",
    "            smiles.count('I'),  # Iodine count\n",
    "            smiles.count('='),  # Double bonds\n",
    "            smiles.count('#'),  # Triple bonds\n",
    "            smiles.count('-'),  # Single bonds\n",
    "            smiles.count('(') + smiles.count(')'),  # Branching\n",
    "            smiles.count('[') + smiles.count(']'),  # Bracket atoms\n",
    "            smiles.count('@'),  # Chirality centers\n",
    "            smiles.count('c'),  # Aromatic carbon\n",
    "            smiles.count('n'),  # Aromatic nitrogen\n",
    "            smiles.count('o'),  # Aromatic oxygen\n",
    "            smiles.count('s'),  # Aromatic sulfur\n",
    "        ]\n",
    "        features.append(feature_vector)\n",
    "    \n",
    "    return np.array(features)"
   ]
  },
  {
   "cell_type": "code",
   "execution_count": 6,
   "id": "85a68c0a",
   "metadata": {
    "execution": {
     "iopub.execute_input": "2025-10-12T17:51:36.462732Z",
     "iopub.status.busy": "2025-10-12T17:51:36.462445Z",
     "iopub.status.idle": "2025-10-12T17:51:52.223196Z",
     "shell.execute_reply": "2025-10-12T17:51:52.221966Z"
    },
    "papermill": {
     "duration": 15.765915,
     "end_time": "2025-10-12T17:51:52.225059",
     "exception": false,
     "start_time": "2025-10-12T17:51:36.459144",
     "status": "completed"
    },
    "tags": []
   },
   "outputs": [],
   "source": [
    "embeddings_train = extract_chembert_embeddings(df_train['SMILES'], chemberta, df_train.shape[0])\n",
    "molecular_features_train = extract_simple_molecular_features(df_train['SMILES'])"
   ]
  },
  {
   "cell_type": "code",
   "execution_count": 7,
   "id": "c220b983",
   "metadata": {
    "execution": {
     "iopub.execute_input": "2025-10-12T17:51:52.231714Z",
     "iopub.status.busy": "2025-10-12T17:51:52.231391Z",
     "iopub.status.idle": "2025-10-12T17:51:52.237196Z",
     "shell.execute_reply": "2025-10-12T17:51:52.236085Z"
    },
    "papermill": {
     "duration": 0.011145,
     "end_time": "2025-10-12T17:51:52.239072",
     "exception": false,
     "start_time": "2025-10-12T17:51:52.227927",
     "status": "completed"
    },
    "tags": []
   },
   "outputs": [
    {
     "name": "stdout",
     "output_type": "stream",
     "text": [
      "(2662, 384)\n",
      "(2662, 20)\n"
     ]
    }
   ],
   "source": [
    "print(embeddings_train.shape)\n",
    "print(molecular_features_train.shape)"
   ]
  }
 ],
 "metadata": {
  "kaggle": {
   "accelerator": "none",
   "dataSources": [
    {
     "databundleVersionId": 13473948,
     "sourceId": 113155,
     "sourceType": "competition"
    },
    {
     "isSourceIdPinned": true,
     "modelId": 380893,
     "modelInstanceId": 359690,
     "sourceId": 442871,
     "sourceType": "modelInstanceVersion"
    }
   ],
   "dockerImageVersionId": 31153,
   "isGpuEnabled": false,
   "isInternetEnabled": true,
   "language": "python",
   "sourceType": "notebook"
  },
  "kernelspec": {
   "display_name": "Python 3",
   "language": "python",
   "name": "python3"
  },
  "language_info": {
   "codemirror_mode": {
    "name": "ipython",
    "version": 3
   },
   "file_extension": ".py",
   "mimetype": "text/x-python",
   "name": "python",
   "nbconvert_exporter": "python",
   "pygments_lexer": "ipython3",
   "version": "3.11.13"
  },
  "papermill": {
   "default_parameters": {},
   "duration": 76.663481,
   "end_time": "2025-10-12T17:51:55.275244",
   "environment_variables": {},
   "exception": null,
   "input_path": "__notebook__.ipynb",
   "output_path": "__notebook__.ipynb",
   "parameters": {},
   "start_time": "2025-10-12T17:50:38.611763",
   "version": "2.6.0"
  }
 },
 "nbformat": 4,
 "nbformat_minor": 5
}
