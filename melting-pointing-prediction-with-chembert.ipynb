{
 "cells": [
  {
   "cell_type": "code",
   "execution_count": 1,
   "id": "64d47be9",
   "metadata": {
    "execution": {
     "iopub.execute_input": "2025-10-14T17:41:52.977862Z",
     "iopub.status.busy": "2025-10-14T17:41:52.977489Z",
     "iopub.status.idle": "2025-10-14T17:42:17.591459Z",
     "shell.execute_reply": "2025-10-14T17:42:17.590194Z"
    },
    "papermill": {
     "duration": 24.621137,
     "end_time": "2025-10-14T17:42:17.593255",
     "exception": false,
     "start_time": "2025-10-14T17:41:52.972118",
     "status": "completed"
    },
    "tags": []
   },
   "outputs": [],
   "source": [
    "import numpy as np\n",
    "import pandas as pd\n",
    "import torch\n",
    "\n",
    "from transformers import AutoModelForMaskedLM, AutoTokenizer, AutoModel"
   ]
  },
  {
   "cell_type": "code",
   "execution_count": 2,
   "id": "704cef32",
   "metadata": {
    "execution": {
     "iopub.execute_input": "2025-10-14T17:42:17.601495Z",
     "iopub.status.busy": "2025-10-14T17:42:17.600913Z",
     "iopub.status.idle": "2025-10-14T17:42:17.749065Z",
     "shell.execute_reply": "2025-10-14T17:42:17.747785Z"
    },
    "papermill": {
     "duration": 0.154192,
     "end_time": "2025-10-14T17:42:17.751043",
     "exception": false,
     "start_time": "2025-10-14T17:42:17.596851",
     "status": "completed"
    },
    "tags": []
   },
   "outputs": [],
   "source": [
    "df_train = pd.read_csv('/kaggle/input/melting-point/train.csv')\n",
    "chemberta_model = '/kaggle/input/c/transformers/default/1/ChemBERTa-77M-MLM'"
   ]
  },
  {
   "cell_type": "code",
   "execution_count": 3,
   "id": "4de83768",
   "metadata": {
    "execution": {
     "iopub.execute_input": "2025-10-14T17:42:17.759060Z",
     "iopub.status.busy": "2025-10-14T17:42:17.758742Z",
     "iopub.status.idle": "2025-10-14T17:42:48.413274Z",
     "shell.execute_reply": "2025-10-14T17:42:48.411912Z"
    },
    "papermill": {
     "duration": 30.662585,
     "end_time": "2025-10-14T17:42:48.417129",
     "exception": false,
     "start_time": "2025-10-14T17:42:17.754544",
     "status": "completed"
    },
    "tags": []
   },
   "outputs": [
    {
     "name": "stdout",
     "output_type": "stream",
     "text": [
      "Loading ChemBERTa model...\n"
     ]
    },
    {
     "name": "stderr",
     "output_type": "stream",
     "text": [
      "/usr/local/lib/python3.11/dist-packages/pydantic/_internal/_generate_schema.py:2225: UnsupportedFieldAttributeWarning: The 'repr' attribute with value False was provided to the `Field()` function, which has no effect in the context it was used. 'repr' is field-specific metadata, and can only be attached to a model field using `Annotated` metadata or by assignment. This may have happened because an `Annotated` type alias using the `type` statement was used, or if the `Field()` function was attached to a single member of a union type.\n",
      "  warnings.warn(\n",
      "/usr/local/lib/python3.11/dist-packages/pydantic/_internal/_generate_schema.py:2225: UnsupportedFieldAttributeWarning: The 'frozen' attribute with value True was provided to the `Field()` function, which has no effect in the context it was used. 'frozen' is field-specific metadata, and can only be attached to a model field using `Annotated` metadata or by assignment. This may have happened because an `Annotated` type alias using the `type` statement was used, or if the `Field()` function was attached to a single member of a union type.\n",
      "  warnings.warn(\n",
      "2025-10-14 17:42:30.239497: E external/local_xla/xla/stream_executor/cuda/cuda_fft.cc:477] Unable to register cuFFT factory: Attempting to register factory for plugin cuFFT when one has already been registered\n",
      "WARNING: All log messages before absl::InitializeLog() is called are written to STDERR\n",
      "E0000 00:00:1760463750.623806      13 cuda_dnn.cc:8310] Unable to register cuDNN factory: Attempting to register factory for plugin cuDNN when one has already been registered\n",
      "E0000 00:00:1760463750.722330      13 cuda_blas.cc:1418] Unable to register cuBLAS factory: Attempting to register factory for plugin cuBLAS when one has already been registered\n"
     ]
    },
    {
     "name": "stdout",
     "output_type": "stream",
     "text": [
      "ChemBERTa loaded successfully!\n"
     ]
    }
   ],
   "source": [
    "# Model retrieved from https://www.kaggle.com/code/michaelrowen/opp2025-chemberta-pre-trained-base\n",
    "class BERTEmbedder:\n",
    "    def __init__(self, model_name):\n",
    "        self.tokenizer = AutoTokenizer.from_pretrained(model_name)\n",
    "        self.model = AutoModel.from_pretrained(model_name)\n",
    "        self.model.eval()\n",
    "\n",
    "print('Loading ChemBERTa model...')\n",
    "try:\n",
    "    chemberta = BERTEmbedder(model_name=chemberta_model)\n",
    "    print('ChemBERTa loaded successfully!')\n",
    "except Exception as e:\n",
    "    print(f'Error loading ChemBERTa: {e}')"
   ]
  },
  {
   "cell_type": "code",
   "execution_count": 4,
   "id": "099e86dc",
   "metadata": {
    "execution": {
     "iopub.execute_input": "2025-10-14T17:42:48.425961Z",
     "iopub.status.busy": "2025-10-14T17:42:48.425246Z",
     "iopub.status.idle": "2025-10-14T17:42:48.432832Z",
     "shell.execute_reply": "2025-10-14T17:42:48.431425Z"
    },
    "papermill": {
     "duration": 0.013866,
     "end_time": "2025-10-14T17:42:48.434742",
     "exception": false,
     "start_time": "2025-10-14T17:42:48.420876",
     "status": "completed"
    },
    "tags": []
   },
   "outputs": [],
   "source": [
    "def extract_chembert_embeddings(smiles_list, embedder, n_data):\n",
    "    n_latent = 384\n",
    "    embeddings = np.zeros((n_data, n_latent))\n",
    "    \n",
    "    for i, smiles in enumerate(smiles_list):\n",
    "        with torch.no_grad():\n",
    "            # Getting the model output\n",
    "            encoded_input = embedder.tokenizer(smiles, return_tensors='pt', padding=True, truncation=True)\n",
    "            model_output = embedder.model(**encoded_input)\n",
    "        \n",
    "            # Getting the CLS token from model output\n",
    "            embedding = model_output[0][:,0,:]\n",
    "            embeddings[i, :] = embedding.numpy()\n",
    "    \n",
    "    return pd.DataFrame(embeddings)"
   ]
  },
  {
   "cell_type": "code",
   "execution_count": 5,
   "id": "545a7fe4",
   "metadata": {
    "execution": {
     "iopub.execute_input": "2025-10-14T17:42:48.443299Z",
     "iopub.status.busy": "2025-10-14T17:42:48.442893Z",
     "iopub.status.idle": "2025-10-14T17:42:48.451378Z",
     "shell.execute_reply": "2025-10-14T17:42:48.450098Z"
    },
    "papermill": {
     "duration": 0.014875,
     "end_time": "2025-10-14T17:42:48.453175",
     "exception": false,
     "start_time": "2025-10-14T17:42:48.438300",
     "status": "completed"
    },
    "tags": []
   },
   "outputs": [],
   "source": [
    "# Code retrieved from https://www.kaggle.com/code/michaelrowen/opp2025-chemberta-pre-trained-base\n",
    "def extract_simple_molecular_features(smiles_list):\n",
    "    features = []\n",
    "    for smiles in smiles_list:\n",
    "        feature_vector = [\n",
    "            len(smiles),  # SMILES length\n",
    "            smiles.count('C'),  # Carbon count\n",
    "            smiles.count('N'),  # Nitrogen count\n",
    "            smiles.count('O'),  # Oxygen count\n",
    "            smiles.count('S'),  # Sulfur count\n",
    "            smiles.count('P'),  # Phosphorus count\n",
    "            smiles.count('F'),  # Fluorine count\n",
    "            smiles.count('Cl'),  # Chlorine count\n",
    "            smiles.count('Br'),  # Bromine count\n",
    "            smiles.count('I'),  # Iodine count\n",
    "            smiles.count('='),  # Double bonds\n",
    "            smiles.count('#'),  # Triple bonds\n",
    "            smiles.count('-'),  # Single bonds\n",
    "            smiles.count('(') + smiles.count(')'),  # Branching\n",
    "            smiles.count('[') + smiles.count(']'),  # Bracket atoms\n",
    "            smiles.count('@'),  # Chirality centers\n",
    "            smiles.count('c'),  # Aromatic carbon\n",
    "            smiles.count('n'),  # Aromatic nitrogen\n",
    "            smiles.count('o'),  # Aromatic oxygen\n",
    "            smiles.count('s'),  # Aromatic sulfur\n",
    "        ]\n",
    "        features.append(feature_vector)\n",
    "    \n",
    "    return pd.DataFrame(features)"
   ]
  },
  {
   "cell_type": "code",
   "execution_count": 6,
   "id": "d975d0db",
   "metadata": {
    "execution": {
     "iopub.execute_input": "2025-10-14T17:42:48.461834Z",
     "iopub.status.busy": "2025-10-14T17:42:48.461007Z",
     "iopub.status.idle": "2025-10-14T17:43:02.015602Z",
     "shell.execute_reply": "2025-10-14T17:43:02.014499Z"
    },
    "papermill": {
     "duration": 13.560697,
     "end_time": "2025-10-14T17:43:02.017426",
     "exception": false,
     "start_time": "2025-10-14T17:42:48.456729",
     "status": "completed"
    },
    "tags": []
   },
   "outputs": [],
   "source": [
    "embeddings_train = extract_chembert_embeddings(df_train['SMILES'], chemberta, df_train.shape[0])\n",
    "molecular_features_train = extract_simple_molecular_features(df_train['SMILES'])"
   ]
  },
  {
   "cell_type": "code",
   "execution_count": 7,
   "id": "7ba27f08",
   "metadata": {
    "execution": {
     "iopub.execute_input": "2025-10-14T17:43:02.026395Z",
     "iopub.status.busy": "2025-10-14T17:43:02.025181Z",
     "iopub.status.idle": "2025-10-14T17:43:02.031261Z",
     "shell.execute_reply": "2025-10-14T17:43:02.030098Z"
    },
    "papermill": {
     "duration": 0.01194,
     "end_time": "2025-10-14T17:43:02.032835",
     "exception": false,
     "start_time": "2025-10-14T17:43:02.020895",
     "status": "completed"
    },
    "tags": []
   },
   "outputs": [
    {
     "name": "stdout",
     "output_type": "stream",
     "text": [
      "(2662, 384) <class 'pandas.core.frame.DataFrame'>\n",
      "(2662, 20) <class 'pandas.core.frame.DataFrame'>\n"
     ]
    }
   ],
   "source": [
    "print(embeddings_train.shape, type(embeddings_train))\n",
    "print(molecular_features_train.shape, type(molecular_features_train))"
   ]
  },
  {
   "cell_type": "code",
   "execution_count": 8,
   "id": "1adedaa4",
   "metadata": {
    "execution": {
     "iopub.execute_input": "2025-10-14T17:43:02.040974Z",
     "iopub.status.busy": "2025-10-14T17:43:02.040642Z",
     "iopub.status.idle": "2025-10-14T17:43:02.095447Z",
     "shell.execute_reply": "2025-10-14T17:43:02.094445Z"
    },
    "papermill": {
     "duration": 0.060962,
     "end_time": "2025-10-14T17:43:02.097371",
     "exception": false,
     "start_time": "2025-10-14T17:43:02.036409",
     "status": "completed"
    },
    "tags": []
   },
   "outputs": [],
   "source": [
    "df_ttl = pd.concat([df_train, embeddings_train, molecular_features_train], axis=1)\n",
    "df_ttl.drop(['id', 'SMILES'], axis=1, inplace=True)\n",
    "y_train = df_ttl['Tm']\n",
    "X_train = df_ttl.drop(['Tm'], axis=1)\n",
    "X_train.columns = [str(colname) for colname in X_train.columns]"
   ]
  },
  {
   "cell_type": "code",
   "execution_count": 9,
   "id": "311e540d",
   "metadata": {
    "execution": {
     "iopub.execute_input": "2025-10-14T17:43:02.105599Z",
     "iopub.status.busy": "2025-10-14T17:43:02.105260Z",
     "iopub.status.idle": "2025-10-14T17:47:32.758122Z",
     "shell.execute_reply": "2025-10-14T17:47:32.756970Z"
    },
    "papermill": {
     "duration": 270.66159,
     "end_time": "2025-10-14T17:47:32.762524",
     "exception": false,
     "start_time": "2025-10-14T17:43:02.100934",
     "status": "completed"
    },
    "tags": []
   },
   "outputs": [
    {
     "name": "stdout",
     "output_type": "stream",
     "text": [
      "Fitting 5 folds for each of 3 candidates, totalling 15 fits\n",
      "Best hyperparameters: {'n_estimators': 100}\n",
      "Best CV accuracy: -37.92376775540936\n"
     ]
    }
   ],
   "source": [
    "#from lightgbm import LGBMRegressor  \n",
    "from sklearn.ensemble import RandomForestRegressor\n",
    "from sklearn.model_selection import KFold, GridSearchCV  \n",
    "\n",
    "seed = 4\n",
    "\n",
    "# Initialize the classifier  \n",
    "model = RandomForestRegressor(n_jobs=-1)\n",
    "\n",
    "# Define hyperparameter grid for optimization  \n",
    "param_grid = {\n",
    "    'n_estimators': [10, 50, 100],\n",
    "}  \n",
    "\n",
    "# Set up cross-validation  \n",
    "cv = KFold(n_splits=5, shuffle=True, random_state=seed)  \n",
    "  \n",
    "# Set up GridSearchCV  \n",
    "gs = GridSearchCV(  \n",
    "    estimator=model,  \n",
    "    param_grid=param_grid,  \n",
    "    cv=cv,  \n",
    "    scoring='neg_mean_absolute_error',  \n",
    "    verbose=1,  \n",
    "    n_jobs=-1  \n",
    ")  \n",
    "  \n",
    "# Fit the model with categorical feature information  \n",
    "gs.fit(X_train, y_train)  \n",
    "  \n",
    "# Print the best hyperparameters and score  \n",
    "print(\"Best hyperparameters:\", gs.best_params_)  \n",
    "print(\"Best CV accuracy:\", gs.best_score_)  \n",
    "  \n",
    "# Get the best model  \n",
    "best_model = gs.best_estimator_"
   ]
  },
  {
   "cell_type": "code",
   "execution_count": 10,
   "id": "443eda14",
   "metadata": {
    "execution": {
     "iopub.execute_input": "2025-10-14T17:47:32.770879Z",
     "iopub.status.busy": "2025-10-14T17:47:32.770532Z",
     "iopub.status.idle": "2025-10-14T17:47:32.784568Z",
     "shell.execute_reply": "2025-10-14T17:47:32.783642Z"
    },
    "papermill": {
     "duration": 0.020139,
     "end_time": "2025-10-14T17:47:32.786211",
     "exception": false,
     "start_time": "2025-10-14T17:47:32.766072",
     "status": "completed"
    },
    "tags": []
   },
   "outputs": [
    {
     "data": {
      "text/html": [
       "<style>#sk-container-id-1 {color: black;background-color: white;}#sk-container-id-1 pre{padding: 0;}#sk-container-id-1 div.sk-toggleable {background-color: white;}#sk-container-id-1 label.sk-toggleable__label {cursor: pointer;display: block;width: 100%;margin-bottom: 0;padding: 0.3em;box-sizing: border-box;text-align: center;}#sk-container-id-1 label.sk-toggleable__label-arrow:before {content: \"▸\";float: left;margin-right: 0.25em;color: #696969;}#sk-container-id-1 label.sk-toggleable__label-arrow:hover:before {color: black;}#sk-container-id-1 div.sk-estimator:hover label.sk-toggleable__label-arrow:before {color: black;}#sk-container-id-1 div.sk-toggleable__content {max-height: 0;max-width: 0;overflow: hidden;text-align: left;background-color: #f0f8ff;}#sk-container-id-1 div.sk-toggleable__content pre {margin: 0.2em;color: black;border-radius: 0.25em;background-color: #f0f8ff;}#sk-container-id-1 input.sk-toggleable__control:checked~div.sk-toggleable__content {max-height: 200px;max-width: 100%;overflow: auto;}#sk-container-id-1 input.sk-toggleable__control:checked~label.sk-toggleable__label-arrow:before {content: \"▾\";}#sk-container-id-1 div.sk-estimator input.sk-toggleable__control:checked~label.sk-toggleable__label {background-color: #d4ebff;}#sk-container-id-1 div.sk-label input.sk-toggleable__control:checked~label.sk-toggleable__label {background-color: #d4ebff;}#sk-container-id-1 input.sk-hidden--visually {border: 0;clip: rect(1px 1px 1px 1px);clip: rect(1px, 1px, 1px, 1px);height: 1px;margin: -1px;overflow: hidden;padding: 0;position: absolute;width: 1px;}#sk-container-id-1 div.sk-estimator {font-family: monospace;background-color: #f0f8ff;border: 1px dotted black;border-radius: 0.25em;box-sizing: border-box;margin-bottom: 0.5em;}#sk-container-id-1 div.sk-estimator:hover {background-color: #d4ebff;}#sk-container-id-1 div.sk-parallel-item::after {content: \"\";width: 100%;border-bottom: 1px solid gray;flex-grow: 1;}#sk-container-id-1 div.sk-label:hover label.sk-toggleable__label {background-color: #d4ebff;}#sk-container-id-1 div.sk-serial::before {content: \"\";position: absolute;border-left: 1px solid gray;box-sizing: border-box;top: 0;bottom: 0;left: 50%;z-index: 0;}#sk-container-id-1 div.sk-serial {display: flex;flex-direction: column;align-items: center;background-color: white;padding-right: 0.2em;padding-left: 0.2em;position: relative;}#sk-container-id-1 div.sk-item {position: relative;z-index: 1;}#sk-container-id-1 div.sk-parallel {display: flex;align-items: stretch;justify-content: center;background-color: white;position: relative;}#sk-container-id-1 div.sk-item::before, #sk-container-id-1 div.sk-parallel-item::before {content: \"\";position: absolute;border-left: 1px solid gray;box-sizing: border-box;top: 0;bottom: 0;left: 50%;z-index: -1;}#sk-container-id-1 div.sk-parallel-item {display: flex;flex-direction: column;z-index: 1;position: relative;background-color: white;}#sk-container-id-1 div.sk-parallel-item:first-child::after {align-self: flex-end;width: 50%;}#sk-container-id-1 div.sk-parallel-item:last-child::after {align-self: flex-start;width: 50%;}#sk-container-id-1 div.sk-parallel-item:only-child::after {width: 0;}#sk-container-id-1 div.sk-dashed-wrapped {border: 1px dashed gray;margin: 0 0.4em 0.5em 0.4em;box-sizing: border-box;padding-bottom: 0.4em;background-color: white;}#sk-container-id-1 div.sk-label label {font-family: monospace;font-weight: bold;display: inline-block;line-height: 1.2em;}#sk-container-id-1 div.sk-label-container {text-align: center;}#sk-container-id-1 div.sk-container {/* jupyter's `normalize.less` sets `[hidden] { display: none; }` but bootstrap.min.css set `[hidden] { display: none !important; }` so we also need the `!important` here to be able to override the default hidden behavior on the sphinx rendered scikit-learn.org. See: https://github.com/scikit-learn/scikit-learn/issues/21755 */display: inline-block !important;position: relative;}#sk-container-id-1 div.sk-text-repr-fallback {display: none;}</style><div id=\"sk-container-id-1\" class=\"sk-top-container\"><div class=\"sk-text-repr-fallback\"><pre>RandomForestRegressor(n_jobs=-1)</pre><b>In a Jupyter environment, please rerun this cell to show the HTML representation or trust the notebook. <br />On GitHub, the HTML representation is unable to render, please try loading this page with nbviewer.org.</b></div><div class=\"sk-container\" hidden><div class=\"sk-item\"><div class=\"sk-estimator sk-toggleable\"><input class=\"sk-toggleable__control sk-hidden--visually\" id=\"sk-estimator-id-1\" type=\"checkbox\" checked><label for=\"sk-estimator-id-1\" class=\"sk-toggleable__label sk-toggleable__label-arrow\">RandomForestRegressor</label><div class=\"sk-toggleable__content\"><pre>RandomForestRegressor(n_jobs=-1)</pre></div></div></div></div></div>"
      ],
      "text/plain": [
       "RandomForestRegressor(n_jobs=-1)"
      ]
     },
     "execution_count": 10,
     "metadata": {},
     "output_type": "execute_result"
    }
   ],
   "source": [
    "best_model"
   ]
  },
  {
   "cell_type": "code",
   "execution_count": 11,
   "id": "486d99cc",
   "metadata": {
    "execution": {
     "iopub.execute_input": "2025-10-14T17:47:32.795819Z",
     "iopub.status.busy": "2025-10-14T17:47:32.795511Z",
     "iopub.status.idle": "2025-10-14T17:47:36.131418Z",
     "shell.execute_reply": "2025-10-14T17:47:36.130195Z"
    },
    "papermill": {
     "duration": 3.342503,
     "end_time": "2025-10-14T17:47:36.133430",
     "exception": false,
     "start_time": "2025-10-14T17:47:32.790927",
     "status": "completed"
    },
    "tags": []
   },
   "outputs": [],
   "source": [
    "df_test = pd.read_csv('/kaggle/input/melting-point/test.csv')\n",
    "embeddings_test = extract_chembert_embeddings(df_test['SMILES'], chemberta, df_test.shape[0])\n",
    "molecular_features_test = extract_simple_molecular_features(df_test['SMILES'])\n",
    "\n",
    "df_ttl = pd.concat([df_test, embeddings_test, molecular_features_test], axis=1)\n",
    "X_test = df_ttl.drop(['id', 'SMILES'], axis=1)\n",
    "X_test.columns = [str(colname) for colname in X_test.columns]\n",
    "\n",
    "y_pred = best_model.predict(X_test)"
   ]
  },
  {
   "cell_type": "code",
   "execution_count": 12,
   "id": "d14222a6",
   "metadata": {
    "execution": {
     "iopub.execute_input": "2025-10-14T17:47:36.142981Z",
     "iopub.status.busy": "2025-10-14T17:47:36.142110Z",
     "iopub.status.idle": "2025-10-14T17:47:36.157497Z",
     "shell.execute_reply": "2025-10-14T17:47:36.156446Z"
    },
    "papermill": {
     "duration": 0.021943,
     "end_time": "2025-10-14T17:47:36.159277",
     "exception": false,
     "start_time": "2025-10-14T17:47:36.137334",
     "status": "completed"
    },
    "tags": []
   },
   "outputs": [],
   "source": [
    "df_out = pd.DataFrame({'id': df_ttl['id'],'Tm': y_pred})\n",
    "df_out.to_csv('./submission.csv', index=False)"
   ]
  }
 ],
 "metadata": {
  "kaggle": {
   "accelerator": "none",
   "dataSources": [
    {
     "databundleVersionId": 13473948,
     "sourceId": 113155,
     "sourceType": "competition"
    },
    {
     "isSourceIdPinned": true,
     "modelId": 380893,
     "modelInstanceId": 359690,
     "sourceId": 442871,
     "sourceType": "modelInstanceVersion"
    }
   ],
   "dockerImageVersionId": 31154,
   "isGpuEnabled": false,
   "isInternetEnabled": true,
   "language": "python",
   "sourceType": "notebook"
  },
  "kernelspec": {
   "display_name": "Python 3",
   "language": "python",
   "name": "python3"
  },
  "language_info": {
   "codemirror_mode": {
    "name": "ipython",
    "version": 3
   },
   "file_extension": ".py",
   "mimetype": "text/x-python",
   "name": "python",
   "nbconvert_exporter": "python",
   "pygments_lexer": "ipython3",
   "version": "3.11.13"
  },
  "papermill": {
   "default_parameters": {},
   "duration": 351.745371,
   "end_time": "2025-10-14T17:47:38.784390",
   "environment_variables": {},
   "exception": null,
   "input_path": "__notebook__.ipynb",
   "output_path": "__notebook__.ipynb",
   "parameters": {},
   "start_time": "2025-10-14T17:41:47.039019",
   "version": "2.6.0"
  }
 },
 "nbformat": 4,
 "nbformat_minor": 5
}
